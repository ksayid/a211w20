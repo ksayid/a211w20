{
 "cells": [
  {
   "cell_type": "markdown",
   "metadata": {
    "slideshow": {
     "slide_type": "slide"
    }
   },
   "source": [
    "## ASTR 2100, Winter 2020\n",
    "\n",
    "## Homework Assignment 1: Numerical integration (30 points)\n",
    "\n",
    "### Khalil Sayid"
   ]
  },
  {
   "cell_type": "code",
   "execution_count": 64,
   "metadata": {},
   "outputs": [],
   "source": [
    "from math import isclose\n",
    "import numpy as np\n",
    "import warnings\n",
    "import matplotlib.pyplot as plt\n",
    "import plot_utils\n",
    "from HW01_starter import *"
   ]
  },
  {
   "cell_type": "markdown",
   "metadata": {},
   "source": [
    "\n",
    "**Task 1a. (15 points)**\n",
    "Implement a routine to compute $R_1(h)$ scheme using the efficient method desribed above and check it for a test function for which you know the integral exactly. Plot fractional error as a function of step size and demonstrate that the error in your implemented routine indeed scales as $\\propto h^4$.\n",
    "\n",
    "Implement capability of passing a pointer to a list of arguments <tt>*args</tt> to function that is integrated. Use my routines at the bottom of this notebook as an example. If these examples are not sufficiently clear, you can read more about this way of passing arguments <a href=\"https://www.python-course.eu/python3_passing_arguments.php\">here</a>."
   ]
  },
  {
   "cell_type": "code",
   "execution_count": 74,
   "metadata": {},
   "outputs": [],
   "source": [
    "def R1(func, a, b, h, *args):\n",
    "    '''\n",
    "    Efficient Romberg Routine (as decribed in the homework)\n",
    "    \n",
    "    Inputs:\n",
    "        func: function to integrate (with optional arguments *args)\n",
    "        float a, float b: specifies the interval [a, b] to integrate over\n",
    "        float h: step size\n",
    "    Output:\n",
    "        float\n",
    "        \n",
    "    Assumption: \n",
    "    The number of divisons j of the interval [a, b] as specified by the step-size h\n",
    "    is a power of 2. If not, the function adjusts h accordingly and prints a warning.\n",
    "    \n",
    "    '''\n",
    "    j = np.log2((b - a) / h)\n",
    "    if not(isclose(j, int(j))): \n",
    "        #Assumption check! \n",
    "        #If the number of divisions j and int(j) are not within 1e-7% of each other\n",
    "        j = int(j)\n",
    "        h = (b - a) / 2 ** (j)\n",
    "        warnings.warn(\"\\nPower of 2 assumption violated: h --> {}\".format(h))\n",
    "    k = np.log2(2 * (b - a) / h)\n",
    "    i = np.arange(1, pow(2, k - 1) + 1)\n",
    "    x = a + (h / 2) * (2 * i - 1)\n",
    "    vals = func(x, *args)\n",
    "    return (1/3) * (trapzd(func, a, b, h, *args) + 2 * h * np.sum(vals))"
   ]
  },
  {
   "cell_type": "code",
   "execution_count": 3,
   "metadata": {},
   "outputs": [
    {
     "name": "stderr",
     "output_type": "stream",
     "text": [
      "C:\\ProgramData\\Anaconda3\\lib\\site-packages\\ipykernel_launcher.py:23: UserWarning: \n",
      "Power of 2 assumption violated: h --> 0.015625\n"
     ]
    },
    {
     "data": {
      "text/plain": [
       "1.7182818284946066"
      ]
     },
     "execution_count": 3,
     "metadata": {},
     "output_type": "execute_result"
    }
   ],
   "source": [
    "R1(np.exp, 0, 1, .01)"
   ]
  },
  {
   "cell_type": "code",
   "execution_count": 4,
   "metadata": {
    "scrolled": true
   },
   "outputs": [
    {
     "data": {
      "text/plain": [
       "1.718318841921747"
      ]
     },
     "execution_count": 4,
     "metadata": {},
     "output_type": "execute_result"
    }
   ],
   "source": [
    "R1(np.exp, 0, 1, 2 ** -1)"
   ]
  },
  {
   "cell_type": "markdown",
   "metadata": {},
   "source": [
    "**Explanation**: \n",
    "\n",
    "Given that $$\\int_{0}^{1} e^{x} \\,dx = e^{1} - 1 \\approx 1.718, $$ we see that the R1 routine returns an accurate approximation of the definite integral. We also see that when the step-size does not correspond to a number of steps that is a power of 2, a warning is raised and the step-size is adjusted accordingly."
   ]
  },
  {
   "cell_type": "code",
   "execution_count": 5,
   "metadata": {},
   "outputs": [],
   "source": [
    "# Source: 02_integration_approximation.ipynb\n",
    "def compute_integral(func, int_func, a, b, ns, *args):\n",
    "    '''\n",
    "    Description: Computes the integral of function func on interval [a, b]\n",
    "    using the routine specified by the function int_func. The number of steps\n",
    "    is specified by ns.\n",
    "    \n",
    "    Returns (array of definite integrals, array of step sizes)\n",
    "    '''\n",
    "    nsteps = np.arange(ns) # generate a vector of nstep values from 0 to ns-1\n",
    "    rom_int_value = np.zeros(np.shape(nsteps)[0]) # initialize a vector for integration results for each step size\n",
    "    bma = b - a\n",
    "    hsteps = bma / np.power(2., nsteps) # compute vector of corresponding step sizes\n",
    "    for i, ns in enumerate(nsteps):\n",
    "        rom_int_value[i] = int_func(func, a, b, hsteps[i], *args) # compute the integral for each step size\n",
    "     \n",
    "    return rom_int_value, hsteps # return vectors of integration results and step sizes0 "
   ]
  },
  {
   "cell_type": "code",
   "execution_count": 6,
   "metadata": {},
   "outputs": [],
   "source": [
    "def test_error(func, int_func, a, b, ns, exact, *args):\n",
    "    '''\n",
    "    Description: Plots the fractional error of R1 integration routine\n",
    "    for a given function func on the interval [a, b]. Data points are \n",
    "    generated by applying this routine for different step sizes as \n",
    "    specified by ns, the number of steps. The exact value of the \n",
    "    integral is required as an input to find the fractional error.\n",
    "    \n",
    "    Yields: Fractional error plot.  \n",
    "    \n",
    "    Returns: None.\n",
    "    \n",
    "    Note: If the exact value of the integral is 0, a divide-by-zero\n",
    "    error is raised. \n",
    "    '''\n",
    "    rom_int_val, hsteps = compute_integral(func, int_func, a, b, ns, *args)\n",
    "    trap_int_val, hsteps = compute_integral(func, trapzd, a, b, ns, *args)\n",
    "    ferr_rom = np.abs(rom_int_val/exact - 1.)\n",
    "    ferr_trap = np.abs(trap_int_val/exact - 1.)\n",
    "    #model is ferr ~ h^4, we normalize it to the size of error for first step size in the sequence:\n",
    "    ferr_model = ferr_rom[0] * (hsteps/hsteps[0])**4\n",
    "\n",
    "    plot_utils.plot_line_points(np.log10(hsteps), np.log10(ferr_model), \n",
    "                     xlabel=r'$\\log_{10}\\,\\rm step\\ size$', ylabel = r'$\\log_{10}\\vert\\rm fractional\\ error\\vert$',\n",
    "                     xp=np.log10(hsteps), yp=np.log10(ferr_model), points=True, \n",
    "                     legend=r'${\\rm scaling} \\propto h^4$', plegend = r'$\\rm measured\\ error$',\n",
    "                     legendloc = 'lower right', \n",
    "                     plot_title=r'$R_1\\ \\rm frac.\\ error\\ scaling\\ with\\ step\\ size$',\n",
    "                     grid=True, figsize=5, figsave='fracerr_r1.pdf')"
   ]
  },
  {
   "cell_type": "code",
   "execution_count": 7,
   "metadata": {
    "scrolled": true
   },
   "outputs": [
    {
     "data": {
      "image/png": "[encoded data removed]",
      "text/plain": [
       "<Figure size 360x360 with 1 Axes>"
      ]
     },
     "metadata": {
      "needs_background": "light"
     },
     "output_type": "display_data"
    }
   ],
   "source": [
    "test_error(np.cos, R1, 0, np.pi / 2, 10, 1)"
   ]
  },
  {
   "cell_type": "markdown",
   "metadata": {},
   "source": [
    "**Task 1b. (10 points)** Use the fact that $T(h)$ and $R_1(h)$ provide 2 estimates of the integral of different accuracy, implement a routine similar to above that can use the difference between $R_1(h)$ and $T(h)$ for steps of decreasing size to figure out what step $h$ to use to achieve input threshold values of the absolute tolerance <tt>atol</tt> and fractional accuracy <tt>rtol</tt>. Test your routine by computing an integral with different tolerance values and examining the fractional error relative to exact result. "
   ]
  },
  {
   "cell_type": "code",
   "execution_count": 75,
   "metadata": {},
   "outputs": [],
   "source": [
    "def R1_ideal_step(func, a, b, atol, rtol, *args):\n",
    "    \"\"\"\n",
    "    Description: Find smallest step size (that is a power of 2) that\n",
    "    satisfies the absolute tolerance and fractional accuracy thresholds. \n",
    "    \"\"\"\n",
    "    h = np.abs(b - a) \n",
    "    rom_int = R1(func, a, b, h, *args) \n",
    "    trap_int = trapzd(func, a, b, h, *args) \n",
    "    abs_error = np.abs(rom_int - trap_int) \n",
    "    rel_error = np.abs(1 - trap_int/rom_int) \n",
    "\n",
    "    while (abs_error >= atol) or (rel_error >= rtol):\n",
    "        h = h / 2. #Make sure h step splits up our interval evenly\n",
    "        rom_int = R1(func, a, b, h, *args)\n",
    "        trap_int = trapzd(func, a, b, h, *args)\n",
    "        abs_error = np.abs(rom_int - trap_int)\n",
    "        if rom_int == 0:\n",
    "            rel_error = 1e-300\n",
    "        else:\n",
    "            rel_error = np.abs(1 - trap_int/rom_int) \n",
    "        \n",
    "    return h"
   ]
  },
  {
   "cell_type": "code",
   "execution_count": 76,
   "metadata": {},
   "outputs": [],
   "source": [
    "def R1_improved(func, a, b, atol, rtol, *args):\n",
    "    \"\"\"\n",
    "    Description: Returns approximate definite integral of function\n",
    "    func on interval [a, b] that is within a given absolute tolerance\n",
    "    atol and fractional tolerance rtol. \n",
    "    \"\"\"\n",
    "    h = R1_ideal_step(func, a, b, atol, rtol, *args)\n",
    "    return R1(func, a, b, h, *args) "
   ]
  },
  {
   "cell_type": "code",
   "execution_count": 10,
   "metadata": {},
   "outputs": [],
   "source": [
    "def test_error(func, int_func, a, b, ns, exact, *args):\n",
    "    '''\n",
    "    Description: Plots the fractional error of R1 integration routine\n",
    "    for a given function func on the interval [a, b]. Data points are \n",
    "    generated by applying this routine for different step sizes as \n",
    "    specified by ns, the number of steps. The exact value of the \n",
    "    integral is required as an input to find the fractional error.\n",
    "    \n",
    "    Yields: Fractional error plot.  \n",
    "    \n",
    "    Returns: None.\n",
    "    \n",
    "    Note: If the exact value of the integral is 0, a divide-by-zero\n",
    "    error is raised. \n",
    "    '''\n",
    "    rom_int_val, hsteps = compute_integral(func, int_func, a, b, ns, *args)\n",
    "    trap_int_val, hsteps = compute_integral(func, trapzd, a, b, ns, *args)\n",
    "    ferr_rom = np.abs(rom_int_val/exact - 1.)\n",
    "    ferr_trap = np.abs(trap_int_val/exact - 1.)\n",
    "    #model is ferr ~ h^4, we normalize it to the size of error for first step size in the sequence:\n",
    "    ferr_model = ferr_rom[0] * (hsteps/hsteps[0])**4\n",
    "\n",
    "    plot_utils.plot_line_points(np.log10(hsteps), np.log10(ferr_model), \n",
    "                     xlabel=r'$\\log_{10}\\,\\rm step\\ size$', ylabel = r'$\\log_{10}\\vert\\rm fractional\\ error\\vert$',\n",
    "                     xp=np.log10(hsteps), yp=np.log10(ferr_model), points=True, \n",
    "                     legend=r'${\\rm scaling} \\propto h^4$', plegend = r'$\\rm measured\\ error$',\n",
    "                     legendloc = 'lower right', \n",
    "                     plot_title=r'$R_1\\ \\rm frac.\\ error\\ scaling\\ with\\ step\\ size$',\n",
    "                     grid=True, figsize=5, figsave='fracerr_r1.pdf')"
   ]
  },
  {
   "cell_type": "code",
   "execution_count": 11,
   "metadata": {
    "scrolled": true
   },
   "outputs": [],
   "source": [
    "def contour_error(func, int_func, a, b, mag1, mag2, exact, *args):\n",
    "    \"\"\"\n",
    "    Produces Contour Error Plot\n",
    "    Mag1, mag2 are orders of magnitude for the rel_err and abs_err\n",
    "    thresholds.\n",
    "    Exact is the exact value of the integral.\n",
    "    \"\"\"\n",
    "    g = np.vectorize(int_func)\n",
    "    rel_err = (1/10) ** np.arange(1, mag1 + 1, .5)\n",
    "    abs_err = (1/10) ** np.arange(1, mag2 + 1, .5)\n",
    "    X, Y = np.meshgrid(rel_err, abs_err)\n",
    "    Z = g(func, a, b, X, Y, *args)\n",
    "    Z = abs(Z / exact - 1)\n",
    "    plt.contourf(np.log10(X), np.log10(Y), Z)\n",
    "    plt.xlabel(\"Relative Error\")\n",
    "    plt.ylabel(\"Absolute Error\")\n",
    "    plt.title(\"Contour Plot: \\n Accuracy Thresholds vs. Fractional Error\")"
   ]
  },
  {
   "cell_type": "code",
   "execution_count": 16,
   "metadata": {},
   "outputs": [
    {
     "data": {
      "image/png": "[encoded data removed]",
      "text/plain": [
       "<Figure size 432x288 with 1 Axes>"
      ]
     },
     "metadata": {
      "needs_background": "light"
     },
     "output_type": "display_data"
    }
   ],
   "source": [
    "contour_error(np.exp, R1_improved, 10, 20, 4, 6, np.exp(20) - np.exp(10))"
   ]
  },
  {
   "cell_type": "markdown",
   "metadata": {},
   "source": [
    "**Explanation**:\n",
    "\n",
    "Above, we apply the improved Romberg routine to approximate $$\\int_{10}^{20} e^{x} \\,dx.$$ We do so using various thresholds for the relative and absolute errors, and we plot our results in a contour plot above. Here, we see that the accuracy improves as we increase the specified thersholds until floating point errors cause the accuracy to decrease."
   ]
  },
  {
   "cell_type": "markdown",
   "metadata": {},
   "source": [
    "**Task 1c. (5 points)**  Implement routine computing luminosity distance $d_L$ using the integration routine developed in the task 1a and 1b. For uniformity and ease of testing your routine, please keep the interfaces of your routines similar to my routines. However, if you implement 1b, add input parameters for <tt>atol</tt> and fractional accuracy <tt>rtol</tt>.\n",
    "\n",
    "If you do not manage to get your implementation working, use my routine below for subsequent exercise "
   ]
  },
  {
   "cell_type": "code",
   "execution_count": 77,
   "metadata": {},
   "outputs": [],
   "source": [
    "def _dc_improved(z1, z2, atol, rtol, *args):\n",
    "    \"\"\"\n",
    "    helper function to compute D_c from z1 to z2 by numerical integration using R1_improved\n",
    "    \n",
    "    Parameters: \n",
    "    -----------\n",
    "    z1, z2: floats = redshift integration limits\n",
    "    *args: argument list to pass to dl_func\n",
    "    \n",
    "    Returns:\n",
    "    --------\n",
    "    float - value of the integral estimated using R1_improved integration\n",
    "    \"\"\"\n",
    "    return R1_improved(dl_func, z1, z2, atol, rtol, *args)"
   ]
  },
  {
   "cell_type": "code",
   "execution_count": 78,
   "metadata": {},
   "outputs": [],
   "source": [
    "def d_L(z, H0, Om0, OmL, atol, rtol):\n",
    "    '''\n",
    "    routine computing luminosity distance from z=0 to z \n",
    "    using helper routine for comoving distance _dc\n",
    "    \n",
    "    Parameters:\n",
    "    -----------\n",
    "    z: float - redshift to which to compute d_L\n",
    "    H0: float - Hubble constant in units of km/s/Mpc\n",
    "    Om0: float - dimensionless mean matter density in the universe, >= 0\n",
    "    OmL: float - dimensionless mean vacuum energy density in the universe\n",
    "    atol: float = absolute error tolerance\n",
    "    rtol: float = relative error tolerance\n",
    "     \n",
    "    Returns:\n",
    "    --------\n",
    "    float - value of d_L(z, H0, Om0, OmL)\n",
    "    '''\n",
    "    if 1.0 + OmL == 1.0: # note that I exploit the roundoff error in testing whether OmL is consistent with zero\n",
    "        return d_L_simple(z, H0, Om0) # if OmL=0, use simple formula without integration\n",
    "    else: # otherwise use numerical integration to compute distance \n",
    "        dH = clight / H0 \n",
    "        Omk = 1.0 - Om0 - OmL\n",
    "        args = [H0, Om0, OmL, Omk]\n",
    "        dc = _dc_improved(0., z, atol, rtol, *args)\n",
    "        if 1.0 + Omk == 1.0:\n",
    "            return dH * dc * (1.0 + z)\n",
    "        else:\n",
    "            sqrOmk = np.sqrt(np.abs(Omk))\n",
    "            if Omk > 0.:\n",
    "                return dH * np.sinh(dc*sqrOmk) * (1.0 + z) / sqrOmk \n",
    "            else:\n",
    "                return dH * np.sin(dc*sqrOmk) * (1.0 + z) / sqrOmk\n",
    "        return dL"
   ]
  },
  {
   "cell_type": "code",
   "execution_count": 79,
   "metadata": {},
   "outputs": [
    {
     "name": "stdout",
     "output_type": "stream",
     "text": [
      "d_L(z=2.00, Om0=0.30, OmL=0.70, H0=70.0) = 1.554e+04 Mpc\n"
     ]
    }
   ],
   "source": [
    "H0, Om0, OmL, z = 70., 0.3, 0.7, 2\n",
    "atol, rtol = 1e-3, 1e-3\n",
    "dL_improved = d_L(z, H0, Om0, OmL, atol, rtol)\n",
    "\n",
    "print(\"d_L(z=%.2f, Om0=%.2f, OmL=%.2f, H0=%.1f) = %.4g Mpc\" % (z, Om0, OmL, H0, dL_improved))\n"
   ]
  },
  {
   "cell_type": "markdown",
   "metadata": {},
   "source": [
    "**Task 1d. Extra-credit (10 points)** Implement a routine for computing $d_L$ based on the trapezoidal integration scheme that is 4th order accurate (i.e has fractional error scaling as $\\propto h^4$) *without* using the formula $R_1(h)=[4T(h/2)-T(h)]/3$. Test your routine and demonstrate that its fractional error scales as $\\propto h^4$ using a plot. "
   ]
  },
  {
   "cell_type": "code",
   "execution_count": 7,
   "metadata": {},
   "outputs": [
    {
     "data": {
      "image/png": "[encoded data removed]",
      "text/plain": [
       "<Figure size 216x216 with 1 Axes>"
      ]
     },
     "metadata": {
      "needs_background": "light"
     },
     "output_type": "display_data"
    }
   ],
   "source": [
    "def trapzd3(func, a, b, nstep, vectorize = False):\n",
    "    assert nstep % 3 == 0, \"{} is not a multiple of 3\".format(n)\n",
    "    assert nstep >= 6, \"{} must be greater than 3\".format(n)\n",
    "    \n",
    "    bma = np.abs(b-a)\n",
    "    \n",
    "    if not(vectorize):\n",
    "        func = np.vectorize(func)\n",
    "    area = func(a) + func(b)  \n",
    "    hstep = bma / nstep\n",
    "    indices = np.arange(1, nstep)\n",
    "    xd = a + indices * hstep # np.arange creates a vector of values from 0 to nstep-1\n",
    "    mult = indices % 3 == 0\n",
    "    xd_2, xd_3 = xd[~mult], xd[mult]\n",
    "    area += 3 * np.sum(func(xd_2)) + 2 * np.sum(func(xd_3))\n",
    "    area *= 3 * hstep / 8\n",
    "    return area\n",
    "\n",
    "def compute_integral2(func, int_func, a, b, ns):\n",
    "    nsteps = np.arange(6, ns, 3) # generate a vector of nstep values from 0 to ns-1\n",
    "    trint = np.zeros(np.shape(nsteps)[0]) # initialize a vector for integration results for each step size\n",
    "\n",
    "    bma = b - a\n",
    "    hsteps = bma / nsteps # compute vector of corresponding step sizes\n",
    "    for i, ns in enumerate(nsteps):\n",
    "        trint[i] = int_func(func, a, b, nsteps[i]) # compute the integral for each step size\n",
    "     \n",
    "    return trint, hsteps # return vectors of integration results and step sizes\n",
    "\n",
    "\n",
    "a, b, ns, fexact = 0, 1, 100, np.exp(1) - 1\n",
    "trint, hsteps = compute_integral2(np.exp, trapzd3, a, b, ns)\n",
    "\n",
    "ferr = np.abs(trint/fexact - 1.)\n",
    "\n",
    "#model is ferr ~ h^n, we normalize it to the size of error for first step size in the sequence:\n",
    "ferr_model = ferr[0] * (hsteps/hsteps[0])**4\n",
    "\n",
    "plot_utils.plot_line_points(np.log10(hsteps), np.log10(ferr_model), \n",
    "                 xlabel=r'$\\log_{10}\\,\\rm step\\ size$', ylabel = r'$\\log_{10}\\vert\\rm fractional\\ error\\vert$',\n",
    "                 xp=np.log10(hsteps), yp=np.log10(ferr), points=True, \n",
    "                 legend=r'${\\rm scaling} \\propto h^4$', plegend = r'$\\rm measured\\ error$',\n",
    "                 legendloc = 'lower right', \n",
    "                 plot_title=r'$R_1\\ \\rm frac.\\ error\\ scaling\\ with\\ step\\ size$',\n",
    "                 grid=True, figsize=3, figsave='fracerr_r1.pdf')"
   ]
  },
  {
   "cell_type": "markdown",
   "metadata": {},
   "source": [
    "## Exercise 2 (extra-credit)\n",
    "\n",
    "Implement a routine performing Romberg integration of input function $f(x)$ and integration interval $[a,b]$ to a specified *fractional* error tolerance. Implement the integration routine in such a way that one can pass a list of parameter values of arbitrary size to $f(x)$ using <tt>*args</tt> pointer as in my routines below. \n",
    "\n",
    "The Romberg integration starts either with a step size equal to the entire integration interval ($h_0=b-a$) to compute $R_0(h_0)=T(h_0)$ and proceeds to estimate $R_m$ for $m=1,2,\\ldots$ using equation derived in class: \n",
    "\n",
    "$$\n",
    "R_{m+1}(h)=\\frac{4^{m+1} R_{m}(h/2)-R_{m}(h)}{4^{m+1}-1}.\n",
    "$$\n",
    "\n",
    "One can implement this via recursive calls to the same function, but a much more efficient is to reuse computations done for $R_m(h)$ in computing $R_m(h/2)$. \n"
   ]
  },
  {
   "cell_type": "markdown",
   "metadata": {},
   "source": [
    "**Task 2a. (35 points)** Implement a routine that estimates integral $\\int_a^b f(x)dx$ using Romberg integration method with error better than specified tolerance level, as in the task 1b above, but using $R_{m+1}$ and $R_{m}$ instead of $R_1$ and $T$. Test your routine by computing $$\\int_0^1 e^x dx$$ for different tolerance levels and comparing results with the \n",
    "true value of the integral. "
   ]
  },
  {
   "cell_type": "markdown",
   "metadata": {},
   "source": [
    "**Intuition**: We acquire the idea for a Romberg Table from https://www.mathstat.dal.ca/~tkolokol/classes/2400/romberg.pdf . \n",
    "We see that storing iterations of the Romberg method would allow us to reuse computations, making our\n",
    "algorithm more efficient."
   ]
  },
  {
   "cell_type": "code",
   "execution_count": 115,
   "metadata": {},
   "outputs": [],
   "source": [
    "def Romberg_helper(func, a, b, m, *args):\n",
    "    \"\"\"\n",
    "    Description: Finds m-th and m - 1 th iteration of Romberg method\n",
    "    in order to integrate a function func on the interval [a, b]. \n",
    "    \n",
    "    func(**args) <-- arguments to pass into func\n",
    "    \n",
    "    \"\"\"\n",
    "    assert ((m >= 0) and (isinstance(m, int))), \"m is ill-defined\"\n",
    "    assert (a < b), \"interval is ill-defined\"\n",
    "    \n",
    "    ### Initialize the Romberg Table with dimensions (m + 1) x (m + 1).\n",
    "    Rom_table = np.zeros((m+1,m+1)) \n",
    "    \n",
    "    ### We first calculate the first element of the Romberg Table\n",
    "    ### This is Trapezoidal Rule on 1 sub-interval.\n",
    "    h = (b - a) / 2 ** (np.arange(0, m + 1))\n",
    "    Rom_table[0,0] = (b - a) / 2 * (func(a, *args) + func(b, *args))\n",
    "        \n",
    "    for i in range(1, m + 1):\n",
    "        # Now, we compute R[i, 0] (the rest of the values in the\n",
    "        # first column of the table).\n",
    "        j = np.arange(1, 2**(i - 1) + 1)\n",
    "        trap_sum = func(a + (2*j - 1)*h[i], *args).sum()\n",
    "        \n",
    "        # Now we apply the recurrence for the trapezoidal scheme,\n",
    "        # as given at the beginning of the notebook. \n",
    "        # This completes R[i, 0]. \n",
    "        \n",
    "        Rom_table[i, 0] = Rom_table[i - 1, 0] * 0.5 + h[i] * trap_sum\n",
    "        \n",
    "        # Now, we compute the terms along the diagonal of R[i, 0].\n",
    "        # This uses the recurrence given in Exercise 2.\n",
    "        \n",
    "        for k in range(1, i + 1):\n",
    "            coef = pow(4, k)\n",
    "            Rom_table[i, k] = (coef * Rom_table[i, k - 1] - Rom_table[i - 1, k - 1]) / (coef - 1)\n",
    "    \n",
    "    # The table is complete. Return the mth and m - 1 th order approximation.\n",
    "\n",
    "    return Rom_table[m, m], Rom_table[m, m - 1] \n",
    "\n",
    "def Romberg_recur(func, a, b, rtol = 1e-4, m = 5, verbose = False, *args):\n",
    "    \"\"\"\n",
    "    Description: Integrates function func on interval [a, b] that satisfies\n",
    "    a given fractional tolerance. Function ends when the fractional error\n",
    "    is less than the tolerance rtol or when the maximum number of iterations\n",
    "    max_iter is met.\n",
    "    \n",
    "    Set Verbose to True for debugging purposes. \n",
    "    \n",
    "    Returns (estimate of integral, estimated fractional error). \n",
    "    \"\"\"\n",
    "    assert (m >= 0 and isinstance(m, int)), \"m is ill-defined\"\n",
    "    assert (a < b), \"interval is ill-defined\"\n",
    "    \n",
    "    for m in range(1, m):\n",
    "        Int_m, Int_m1 = Romberg_helper(func, a, b, m, *args)\n",
    "            \n",
    "        if Int_m == 0:\n",
    "            Int_m = 1e-300\n",
    "        \n",
    "        frac_err = abs(1 - Int_m1 / Int_m)\n",
    "\n",
    "        if verbose: \n",
    "            print(\"Order {}\".format(m))\n",
    "            print(\"Old Integral = {}\".format(Int_m1))\n",
    "            print(\"New Integral: {}\".format(Int_m)) \n",
    "            print(\"Frac. Error Est.: {}\".format(frac_err))\n",
    "            print(\"\\n\")\n",
    "        \n",
    "        if frac_err < rtol:\n",
    "            return Int_m, frac_err\n",
    "        \n",
    "    warnings.warn(\"\\nMax iterations reached\")\n",
    "    return Int_m, frac_err\n",
    "    "
   ]
  },
  {
   "cell_type": "code",
   "execution_count": 5,
   "metadata": {},
   "outputs": [
    {
     "name": "stdout",
     "output_type": "stream",
     "text": [
      "Order 1\n",
      "Old Integral = 1.7539310924648253\n",
      "New Integral: 1.7188611518765928\n",
      "Frac. Error Est.: 0.02040300960315755\n",
      "\n",
      "\n",
      "Order 2\n",
      "Old Integral = 1.7183188419217472\n",
      "New Integral: 1.7182826879247577\n",
      "Frac. Error Est.: 2.1040773583669292e-05\n",
      "\n",
      "\n"
     ]
    },
    {
     "data": {
      "text/plain": [
       "(1.7182826879247577, 2.1040773583669292e-05)"
      ]
     },
     "execution_count": 5,
     "metadata": {},
     "output_type": "execute_result"
    }
   ],
   "source": [
    "Romberg_recur(np.exp, 0, 1, verbose = True)"
   ]
  },
  {
   "cell_type": "markdown",
   "metadata": {},
   "source": [
    "**Task 2b. (5 points)** Implement a routine to compute luminosity distance $d_L$ using the integration routine developed in the task 2a. For uniformity and ease of testing your routine, please keep the interfaces of your routines similar to my routines. However, if you implement 1b, add input parameters for <tt>atol</tt> and fractional accuracy <tt>rtol</tt>."
   ]
  },
  {
   "cell_type": "code",
   "execution_count": 130,
   "metadata": {},
   "outputs": [],
   "source": [
    "def _dc_rom_recur(z1, z2, rtol, *args):\n",
    "    \"\"\"\n",
    "    helper function to compute D_c from z1 to z2 by numerical integration using R1_improved\n",
    "    \n",
    "    Parameters: \n",
    "    -----------\n",
    "    z1, z2: floats = redshift integration limits\n",
    "    *args: argument list to pass to dl_func\n",
    "    \n",
    "    Returns:\n",
    "    --------\n",
    "    float - value of the integral estimated using R1_improved integration\n",
    "    \"\"\"\n",
    "\n",
    "    return Romberg_recur(dl_func, z1, z2, rtol, 5, False, *args)[0]"
   ]
  },
  {
   "cell_type": "code",
   "execution_count": 128,
   "metadata": {},
   "outputs": [],
   "source": [
    "def d_L_recur(z, H0, Om0, OmL, rtol):\n",
    "    '''\n",
    "    routine computing luminosity distance from z=0 to z \n",
    "    using helper routine for comoving distance _dc\n",
    "    \n",
    "    Parameters:\n",
    "    -----------\n",
    "    z: float - redshift to which to compute d_L\n",
    "    H0: float - Hubble constant in units of km/s/Mpc\n",
    "    Om0: float - dimensionless mean matter density in the universe, >= 0\n",
    "    OmL: float - dimensionless mean vacuum energy density in the universe\n",
    "    atol: float = absolute error tolerance\n",
    "    rtol: float = relative error tolerance\n",
    "     \n",
    "    Returns:\n",
    "    --------\n",
    "    float - value of d_L(z, H0, Om0, OmL)\n",
    "    '''\n",
    "\n",
    "    if 1.0 + OmL == 1.0: # note that I exploit the roundoff error in testing whether OmL is consistent with zero\n",
    "        return d_L_simple(z, H0, Om0) # if OmL=0, use simple formula without integration\n",
    "    else: # otherwise use numerical integration to compute distance \n",
    "        dH = clight / H0 \n",
    "        Omk = 1.0 - Om0 - OmL\n",
    "        args = [H0, Om0, OmL, Omk]\n",
    "        dc = _dc_rom_recur(0., z, rtol, *args)\n",
    "        if 1.0 + Omk == 1.0:\n",
    "            print(\"seq\", dH, dc, z)\n",
    "            return dH * dc * (1.0 + z)\n",
    "        else:\n",
    "            sqrOmk = np.sqrt(np.abs(Omk))\n",
    "            if Omk > 0.:\n",
    "                return dH * np.sinh(dc*sqrOmk) * (1.0 + z) / sqrOmk \n",
    "            else:\n",
    "                return dH * np.sin(dc*sqrOmk) * (1.0 + z) / sqrOmk\n",
    "        return dL"
   ]
  },
  {
   "cell_type": "code",
   "execution_count": 131,
   "metadata": {},
   "outputs": [
    {
     "name": "stdout",
     "output_type": "stream",
     "text": [
      "a 0.0 b 2 rtol 0.001 m 5 verbose False\n",
      "70 0.3 0.7 0.0 romberg_recur\n",
      "seq 4282.7494 1.2092212877031825 2\n",
      "d_L(z=2.00, Om0=0.30, OmL=0.70, H0=70.0) = 1.554e+04 Mpc\n"
     ]
    }
   ],
   "source": [
    "H0, Om0, OmL, z = 70, 0.3, 0.7, 2\n",
    "rtol = 1e-3\n",
    "dL_improved = d_L_recur(z, H0, Om0, OmL, rtol)\n",
    "\n",
    "print(\"d_L(z=%.2f, Om0=%.2f, OmL=%.2f, H0=%.1f) = %.4g Mpc\" % (z, Om0, OmL, H0, dL_improved))\n"
   ]
  },
  {
   "cell_type": "markdown",
   "metadata": {},
   "source": [
    "## Exercise 3 (extra-credit, 15 points)\n",
    "\n",
    "Parallelize your Romberg integration routine with message passing interface (MPI) library by splitting integration interval into independent segments and applying Romberg integration on each one independently. I would be happy to go over basics of using MPI for basic parallelization with you, if you choose to do this exercise. You can also check out this tutorial on <a href=\"https://mpi4py.readthedocs.io/en/stable/tutorial.html\">mpi4py</a>. You will need to have mpi4py installed on your laptop for this exercise or on a machine were you can run your code. Note that mpi4py is already installed if you installed the Ananconda python distribution. \n",
    "\n",
    "Test your implementation and check how its performance scales with a different number of processors. \n",
    "\n",
    "You can find example of parallel computation of integral with trapezoidal quadrature  <a href=\"http://materials.jeremybejarano.com/MPIwithPython/collectiveCom.html\">here</a> that can be used as a template. \n"
   ]
  },
  {
   "cell_type": "markdown",
   "metadata": {},
   "source": [
    "**TBD**"
   ]
  }
 ],
 "metadata": {
  "kernelspec": {
   "display_name": "Python 3",
   "language": "python",
   "name": "python3"
  },
  "language_info": {
   "codemirror_mode": {
    "name": "ipython",
    "version": 3
   },
   "file_extension": ".py",
   "mimetype": "text/x-python",
   "name": "python",
   "nbconvert_exporter": "python",
   "pygments_lexer": "ipython3",
   "version": "3.6.1"
  }
 },
 "nbformat": 4,
 "nbformat_minor": 1
}
